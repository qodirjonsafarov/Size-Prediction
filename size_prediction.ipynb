{
 "cells": [
  {
   "cell_type": "code",
   "execution_count": 1,
   "id": "protected-dividend",
   "metadata": {},
   "outputs": [],
   "source": [
    "import pandas as pd\n",
    "import numpy as np\n",
    "import matplotlib.pyplot as plt\n",
    "import seaborn as sns"
   ]
  },
  {
   "cell_type": "code",
   "execution_count": 2,
   "id": "regulated-hampshire",
   "metadata": {},
   "outputs": [
    {
     "data": {
      "text/html": [
       "<div>\n",
       "<style scoped>\n",
       "    .dataframe tbody tr th:only-of-type {\n",
       "        vertical-align: middle;\n",
       "    }\n",
       "\n",
       "    .dataframe tbody tr th {\n",
       "        vertical-align: top;\n",
       "    }\n",
       "\n",
       "    .dataframe thead th {\n",
       "        text-align: right;\n",
       "    }\n",
       "</style>\n",
       "<table border=\"1\" class=\"dataframe\">\n",
       "  <thead>\n",
       "    <tr style=\"text-align: right;\">\n",
       "      <th></th>\n",
       "      <th>weight</th>\n",
       "      <th>age</th>\n",
       "      <th>height</th>\n",
       "      <th>size</th>\n",
       "    </tr>\n",
       "  </thead>\n",
       "  <tbody>\n",
       "    <tr>\n",
       "      <th>0</th>\n",
       "      <td>62</td>\n",
       "      <td>28.0</td>\n",
       "      <td>172.72</td>\n",
       "      <td>XL</td>\n",
       "    </tr>\n",
       "    <tr>\n",
       "      <th>1</th>\n",
       "      <td>59</td>\n",
       "      <td>36.0</td>\n",
       "      <td>167.64</td>\n",
       "      <td>L</td>\n",
       "    </tr>\n",
       "    <tr>\n",
       "      <th>2</th>\n",
       "      <td>61</td>\n",
       "      <td>34.0</td>\n",
       "      <td>165.10</td>\n",
       "      <td>M</td>\n",
       "    </tr>\n",
       "    <tr>\n",
       "      <th>3</th>\n",
       "      <td>65</td>\n",
       "      <td>27.0</td>\n",
       "      <td>175.26</td>\n",
       "      <td>L</td>\n",
       "    </tr>\n",
       "    <tr>\n",
       "      <th>4</th>\n",
       "      <td>62</td>\n",
       "      <td>45.0</td>\n",
       "      <td>172.72</td>\n",
       "      <td>M</td>\n",
       "    </tr>\n",
       "  </tbody>\n",
       "</table>\n",
       "</div>"
      ],
      "text/plain": [
       "   weight   age  height size\n",
       "0      62  28.0  172.72   XL\n",
       "1      59  36.0  167.64    L\n",
       "2      61  34.0  165.10    M\n",
       "3      65  27.0  175.26    L\n",
       "4      62  45.0  172.72    M"
      ]
     },
     "execution_count": 2,
     "metadata": {},
     "output_type": "execute_result"
    }
   ],
   "source": [
    "data = pd.read_csv('final_test.csv')\n",
    "data.head()"
   ]
  },
  {
   "cell_type": "code",
   "execution_count": 3,
   "id": "front-explanation",
   "metadata": {},
   "outputs": [
    {
     "name": "stdout",
     "output_type": "stream",
     "text": [
      "<class 'pandas.core.frame.DataFrame'>\n",
      "RangeIndex: 119734 entries, 0 to 119733\n",
      "Data columns (total 4 columns):\n",
      " #   Column  Non-Null Count   Dtype  \n",
      "---  ------  --------------   -----  \n",
      " 0   weight  119734 non-null  int64  \n",
      " 1   age     119477 non-null  float64\n",
      " 2   height  119404 non-null  float64\n",
      " 3   size    119734 non-null  object \n",
      "dtypes: float64(2), int64(1), object(1)\n",
      "memory usage: 3.7+ MB\n"
     ]
    }
   ],
   "source": [
    "data.info()"
   ]
  },
  {
   "cell_type": "code",
   "execution_count": 4,
   "id": "defensive-juice",
   "metadata": {},
   "outputs": [
    {
     "data": {
      "text/plain": [
       "M       29712\n",
       "S       21924\n",
       "XXXL    21359\n",
       "XL      19119\n",
       "L       17587\n",
       "XXS      9964\n",
       "XXL        69\n",
       "Name: size, dtype: int64"
      ]
     },
     "execution_count": 4,
     "metadata": {},
     "output_type": "execute_result"
    }
   ],
   "source": [
    "data['size'].value_counts()"
   ]
  },
  {
   "cell_type": "code",
   "execution_count": 5,
   "id": "introductory-photographer",
   "metadata": {},
   "outputs": [
    {
     "data": {
      "text/plain": [
       "<AxesSubplot:xlabel='size', ylabel='count'>"
      ]
     },
     "execution_count": 5,
     "metadata": {},
     "output_type": "execute_result"
    },
    {
     "data": {
      "image/png": "[encoded data removed]",
      "text/plain": [
       "<Figure size 432x288 with 1 Axes>"
      ]
     },
     "metadata": {
      "needs_background": "light"
     },
     "output_type": "display_data"
    }
   ],
   "source": [
    "sns.countplot(x = data['size'])"
   ]
  },
  {
   "cell_type": "code",
   "execution_count": 6,
   "id": "verified-motel",
   "metadata": {},
   "outputs": [
    {
     "data": {
      "text/plain": [
       "<Figure size 9360x4320 with 0 Axes>"
      ]
     },
     "metadata": {},
     "output_type": "display_data"
    },
    {
     "data": {
      "image/png": "[encoded data removed]",
      "text/plain": [
       "<Figure size 360x360 with 1 Axes>"
      ]
     },
     "metadata": {
      "needs_background": "light"
     },
     "output_type": "display_data"
    }
   ],
   "source": [
    "plt.figure(figsize=(130, 60))\n",
    "sns.displot(data['age'])\n",
    "plt.show()"
   ]
  },
  {
   "cell_type": "code",
   "execution_count": 7,
   "id": "vocal-annex",
   "metadata": {},
   "outputs": [
    {
     "data": {
      "text/plain": [
       "<seaborn.axisgrid.FacetGrid at 0x23717eb5d60>"
      ]
     },
     "execution_count": 7,
     "metadata": {},
     "output_type": "execute_result"
    },
    {
     "data": {
      "image/png": "[encoded data removed]",
      "text/plain": [
       "<Figure size 360x360 with 1 Axes>"
      ]
     },
     "metadata": {
      "needs_background": "light"
     },
     "output_type": "display_data"
    }
   ],
   "source": [
    "sns.displot(data[\"weight\"])"
   ]
  },
  {
   "cell_type": "code",
   "execution_count": 8,
   "id": "human-server",
   "metadata": {},
   "outputs": [
    {
     "data": {
      "text/html": [
       "<div>\n",
       "<style scoped>\n",
       "    .dataframe tbody tr th:only-of-type {\n",
       "        vertical-align: middle;\n",
       "    }\n",
       "\n",
       "    .dataframe tbody tr th {\n",
       "        vertical-align: top;\n",
       "    }\n",
       "\n",
       "    .dataframe thead th {\n",
       "        text-align: right;\n",
       "    }\n",
       "</style>\n",
       "<table border=\"1\" class=\"dataframe\">\n",
       "  <thead>\n",
       "    <tr style=\"text-align: right;\">\n",
       "      <th></th>\n",
       "      <th>age</th>\n",
       "      <th>height</th>\n",
       "      <th>weight</th>\n",
       "      <th>size</th>\n",
       "    </tr>\n",
       "  </thead>\n",
       "  <tbody>\n",
       "    <tr>\n",
       "      <th>0</th>\n",
       "      <td>-0.833326</td>\n",
       "      <td>0.767729</td>\n",
       "      <td>-0.660757</td>\n",
       "      <td>XL</td>\n",
       "    </tr>\n",
       "    <tr>\n",
       "      <th>24</th>\n",
       "      <td>-0.713290</td>\n",
       "      <td>1.539527</td>\n",
       "      <td>1.556338</td>\n",
       "      <td>XL</td>\n",
       "    </tr>\n",
       "    <tr>\n",
       "      <th>25</th>\n",
       "      <td>-0.353183</td>\n",
       "      <td>-1.161765</td>\n",
       "      <td>-0.291241</td>\n",
       "      <td>XL</td>\n",
       "    </tr>\n",
       "    <tr>\n",
       "      <th>28</th>\n",
       "      <td>-0.473219</td>\n",
       "      <td>-1.933562</td>\n",
       "      <td>-1.399788</td>\n",
       "      <td>XL</td>\n",
       "    </tr>\n",
       "    <tr>\n",
       "      <th>34</th>\n",
       "      <td>0.126960</td>\n",
       "      <td>-0.775866</td>\n",
       "      <td>0.447791</td>\n",
       "      <td>XL</td>\n",
       "    </tr>\n",
       "  </tbody>\n",
       "</table>\n",
       "</div>"
      ],
      "text/plain": [
       "         age    height    weight size\n",
       "0  -0.833326  0.767729 -0.660757   XL\n",
       "24 -0.713290  1.539527  1.556338   XL\n",
       "25 -0.353183 -1.161765 -0.291241   XL\n",
       "28 -0.473219 -1.933562 -1.399788   XL\n",
       "34  0.126960 -0.775866  0.447791   XL"
      ]
     },
     "execution_count": 8,
     "metadata": {},
     "output_type": "execute_result"
    }
   ],
   "source": [
    "# remove outliners\n",
    "dfs = []\n",
    "sizes = []\n",
    "for size_type in data['size'].unique():\n",
    "    sizes.append(size_type)\n",
    "    ndf = data[['age','height','weight']][data['size'] == size_type]\n",
    "    zscore = ((ndf - ndf.mean())/ndf.std())\n",
    "    dfs.append(zscore)\n",
    "    \n",
    "for i in range(len(dfs)):\n",
    "    dfs[i]['age'] = dfs[i]['age'][(dfs[i]['age']>-3) & (dfs[i]['age']<3)]\n",
    "    dfs[i]['height'] = dfs[i]['height'][(dfs[i]['height']>-3) & (dfs[i]['height']<3)]\n",
    "    dfs[i]['weight'] = dfs[i]['weight'][(dfs[i]['weight']>-3) & (dfs[i]['weight']<3)]\n",
    "\n",
    "for i in range(len(sizes)):\n",
    "    dfs[i]['size'] = sizes[i]\n",
    "data = pd.concat(dfs)\n",
    "data.head()"
   ]
  },
  {
   "cell_type": "code",
   "execution_count": 9,
   "id": "greenhouse-adobe",
   "metadata": {},
   "outputs": [
    {
     "data": {
      "text/plain": [
       "age       1678\n",
       "height     547\n",
       "weight    1069\n",
       "size         0\n",
       "dtype: int64"
      ]
     },
     "execution_count": 9,
     "metadata": {},
     "output_type": "execute_result"
    }
   ],
   "source": [
    "data.isnull().sum()"
   ]
  },
  {
   "cell_type": "code",
   "execution_count": 10,
   "id": "indie-snake",
   "metadata": {},
   "outputs": [
    {
     "data": {
      "image/png": "[encoded data removed]",
      "text/plain": [
       "<Figure size 864x432 with 1 Axes>"
      ]
     },
     "metadata": {
      "needs_background": "light"
     },
     "output_type": "display_data"
    }
   ],
   "source": [
    "plt.figure(figsize=(12, 6))\n",
    "plt.xlabel = 'values'\n",
    "plt.ylabel = 'frequency'\n",
    "data['age'].plot(kind='hist', ec='black', bins=100)\n",
    "plt.show()"
   ]
  },
  {
   "cell_type": "code",
   "execution_count": 11,
   "id": "minute-watson",
   "metadata": {},
   "outputs": [
    {
     "data": {
      "text/plain": [
       "(119734, 4)"
      ]
     },
     "execution_count": 11,
     "metadata": {},
     "output_type": "execute_result"
    }
   ],
   "source": [
    "data.shape"
   ]
  },
  {
   "cell_type": "code",
   "execution_count": 12,
   "id": "understood-carpet",
   "metadata": {},
   "outputs": [],
   "source": [
    "# data.dropna(inplace=True)\n",
    "data[\"age\"] = data[\"age\"].fillna(data['age'].median())\n",
    "data[\"height\"] = data[\"height\"].fillna(data['height'].median())\n",
    "data[\"weight\"] = data[\"weight\"].fillna(data['weight'].median())"
   ]
  },
  {
   "cell_type": "code",
   "execution_count": 13,
   "id": "marked-tract",
   "metadata": {},
   "outputs": [],
   "source": [
    "data.isna().sum()\n",
    "data = data.sample(frac=0.3)"
   ]
  },
  {
   "cell_type": "code",
   "execution_count": 14,
   "id": "suitable-monday",
   "metadata": {},
   "outputs": [
    {
     "data": {
      "text/plain": [
       "<AxesSubplot:ylabel='Frequency'>"
      ]
     },
     "execution_count": 14,
     "metadata": {},
     "output_type": "execute_result"
    },
    {
     "data": {
      "image/png": "[encoded data removed]",
      "text/plain": [
       "<Figure size 864x432 with 1 Axes>"
      ]
     },
     "metadata": {
      "needs_background": "light"
     },
     "output_type": "display_data"
    }
   ],
   "source": [
    "plt.figure(figsize=(12, 6))\n",
    "data['height'].plot(kind='hist', ec='black', bins=20)"
   ]
  },
  {
   "cell_type": "code",
   "execution_count": 15,
   "id": "great-kentucky",
   "metadata": {},
   "outputs": [
    {
     "data": {
      "text/plain": [
       "<AxesSubplot:ylabel='Frequency'>"
      ]
     },
     "execution_count": 15,
     "metadata": {},
     "output_type": "execute_result"
    },
    {
     "data": {
      "image/png": "[encoded data removed]",
      "text/plain": [
       "<Figure size 864x432 with 1 Axes>"
      ]
     },
     "metadata": {
      "needs_background": "light"
     },
     "output_type": "display_data"
    }
   ],
   "source": [
    "plt.figure(figsize=(12, 6))\n",
    "data['weight'].plot(kind='hist', ec='black', bins=50)"
   ]
  },
  {
   "cell_type": "code",
   "execution_count": 16,
   "id": "modular-breathing",
   "metadata": {},
   "outputs": [],
   "source": [
    "# Mapping clothes size from strings to numeric\n",
    "data['size'] = data['size'].map({\"XXS\": 1,\n",
    "                                     \"S\": 2,\n",
    "                                     \"M\" : 3,\n",
    "                                     \"L\" : 4,\n",
    "                                     \"XL\" : 5,\n",
    "                                     \"XXL\" : 6,\n",
    "                                     \"XXXL\" : 7})\n",
    "\n",
    "data[\"bmi\"] = data[\"height\"]/data[\"weight\"]\n",
    "data[\"weight-squared\"] = data[\"weight\"] * data[\"weight\"]"
   ]
  },
  {
   "cell_type": "code",
   "execution_count": 17,
   "id": "forbidden-watershed",
   "metadata": {},
   "outputs": [
    {
     "data": {
      "image/png": "[encoded data removed]",
      "text/plain": [
       "<Figure size 432x288 with 2 Axes>"
      ]
     },
     "metadata": {
      "needs_background": "light"
     },
     "output_type": "display_data"
    }
   ],
   "source": [
    "corr = sns.heatmap(data.corr(), annot=True)"
   ]
  },
  {
   "cell_type": "code",
   "execution_count": 18,
   "id": "tropical-contents",
   "metadata": {},
   "outputs": [
    {
     "data": {
      "text/plain": [
       "age               0\n",
       "height            0\n",
       "weight            0\n",
       "size              0\n",
       "bmi               0\n",
       "weight-squared    0\n",
       "dtype: int64"
      ]
     },
     "execution_count": 18,
     "metadata": {},
     "output_type": "execute_result"
    }
   ],
   "source": [
    "data.isna().sum()"
   ]
  },
  {
   "cell_type": "code",
   "execution_count": 19,
   "id": "qualified-grass",
   "metadata": {},
   "outputs": [],
   "source": [
    "from sklearn.model_selection import train_test_split\n",
    "X, y = data.drop('size', axis=1), data['size']\n",
    "X_train, X_test, y_train, y_test = train_test_split(X, y, test_size=0.2, random_state=5)"
   ]
  },
  {
   "cell_type": "code",
   "execution_count": 20,
   "id": "electoral-spanking",
   "metadata": {},
   "outputs": [
    {
     "name": "stderr",
     "output_type": "stream",
     "text": [
      "learning rate is greater than 1. You probably need to decrease learning rate.\n"
     ]
    },
    {
     "data": {
      "application/vnd.jupyter.widget-view+json": {
       "model_id": "b2388a0f82224290982cabce48071d36",
       "version_major": 2,
       "version_minor": 0
      },
      "text/plain": [
       "MetricVisualizer(layout=Layout(align_self='stretch', height='500px'))"
      ]
     },
     "metadata": {},
     "output_type": "display_data"
    },
    {
     "name": "stderr",
     "output_type": "stream",
     "text": [
      "learning rate is greater than 1. You probably need to decrease learning rate.\n"
     ]
    },
    {
     "name": "stdout",
     "output_type": "stream",
     "text": [
      "0:\tlearn: 3.6337575\ttest: 3.5631289\tbest: 3.5631289 (0)\ttotal: 181ms\tremaining: 18s\n",
      "1:\tlearn: 366.1872182\ttest: 364.1696419\tbest: 3.5631289 (0)\ttotal: 333ms\tremaining: 16.3s\n",
      "2:\tlearn: 1181.9765995\ttest: 1168.4565117\tbest: 3.5631289 (0)\ttotal: 415ms\tremaining: 13.4s\n",
      "3:\tlearn: 2226.6903279\ttest: 2172.3924547\tbest: 3.5631289 (0)\ttotal: 478ms\tremaining: 11.5s\n",
      "4:\tlearn: 3009.2957416\ttest: 2998.6959013\tbest: 3.5631289 (0)\ttotal: 539ms\tremaining: 10.2s\n",
      "5:\tlearn: 3214.1418308\ttest: 3256.5047768\tbest: 3.5631289 (0)\ttotal: 645ms\tremaining: 10.1s\n",
      "6:\tlearn: 3059.0232099\ttest: 3096.5987605\tbest: 3.5631289 (0)\ttotal: 713ms\tremaining: 9.47s\n",
      "7:\tlearn: 1708.9676059\ttest: 1738.3997792\tbest: 3.5631289 (0)\ttotal: 768ms\tremaining: 8.84s\n",
      "8:\tlearn: 1696.7507487\ttest: 1692.4462443\tbest: 3.5631289 (0)\ttotal: 823ms\tremaining: 8.32s\n",
      "9:\tlearn: 1674.8218874\ttest: 1719.6779924\tbest: 3.5631289 (0)\ttotal: 872ms\tremaining: 7.85s\n",
      "10:\tlearn: 1143.4112676\ttest: 1162.3675920\tbest: 3.5631289 (0)\ttotal: 946ms\tremaining: 7.66s\n",
      "11:\tlearn: 1250.3136406\ttest: 1286.3787542\tbest: 3.5631289 (0)\ttotal: 1.01s\tremaining: 7.43s\n",
      "12:\tlearn: 1296.2839122\ttest: 1343.0894055\tbest: 3.5631289 (0)\ttotal: 1.1s\tremaining: 7.35s\n",
      "13:\tlearn: 1066.3994027\ttest: 1098.4883409\tbest: 3.5631289 (0)\ttotal: 1.18s\tremaining: 7.23s\n",
      "14:\tlearn: 960.9394036\ttest: 969.6538508\tbest: 3.5631289 (0)\ttotal: 1.48s\tremaining: 8.4s\n",
      "15:\tlearn: 1228.9120425\ttest: 1273.7657295\tbest: 3.5631289 (0)\ttotal: 1.62s\tremaining: 8.49s\n",
      "16:\tlearn: 1386.8216459\ttest: 1427.4228640\tbest: 3.5631289 (0)\ttotal: 1.82s\tremaining: 8.89s\n",
      "17:\tlearn: 1228.8027141\ttest: 1251.2685314\tbest: 3.5631289 (0)\ttotal: 1.97s\tremaining: 8.97s\n",
      "18:\tlearn: 1003.4926508\ttest: 1029.3408848\tbest: 3.5631289 (0)\ttotal: 2.05s\tremaining: 8.72s\n",
      "19:\tlearn: 847.3822556\ttest: 865.6773151\tbest: 3.5631289 (0)\ttotal: 2.1s\tremaining: 8.39s\n",
      "20:\tlearn: 785.1616486\ttest: 796.4109392\tbest: 3.5631289 (0)\ttotal: 2.15s\tremaining: 8.1s\n",
      "21:\tlearn: 979.0837767\ttest: 969.8186408\tbest: 3.5631289 (0)\ttotal: 2.2s\tremaining: 7.81s\n",
      "22:\tlearn: 659.1231485\ttest: 690.8721524\tbest: 3.5631289 (0)\ttotal: 2.26s\tremaining: 7.57s\n",
      "23:\tlearn: 533.6467913\ttest: 549.0138007\tbest: 3.5631289 (0)\ttotal: 2.33s\tremaining: 7.37s\n",
      "24:\tlearn: 533.1865542\ttest: 556.1771327\tbest: 3.5631289 (0)\ttotal: 2.38s\tremaining: 7.14s\n",
      "25:\tlearn: 530.2936745\ttest: 555.1259370\tbest: 3.5631289 (0)\ttotal: 2.43s\tremaining: 6.92s\n",
      "26:\tlearn: 476.4427824\ttest: 495.8026489\tbest: 3.5631289 (0)\ttotal: 2.49s\tremaining: 6.74s\n",
      "27:\tlearn: 484.3593983\ttest: 516.5709249\tbest: 3.5631289 (0)\ttotal: 2.56s\tremaining: 6.6s\n",
      "28:\tlearn: 411.2404393\ttest: 434.3497019\tbest: 3.5631289 (0)\ttotal: 2.67s\tremaining: 6.55s\n",
      "29:\tlearn: 371.3152766\ttest: 380.8991901\tbest: 3.5631289 (0)\ttotal: 2.77s\tremaining: 6.46s\n",
      "30:\tlearn: 368.3210606\ttest: 378.5812276\tbest: 3.5631289 (0)\ttotal: 2.89s\tremaining: 6.42s\n",
      "31:\tlearn: 318.3768677\ttest: 319.8581000\tbest: 3.5631289 (0)\ttotal: 2.97s\tremaining: 6.31s\n",
      "32:\tlearn: 333.6957252\ttest: 337.9238539\tbest: 3.5631289 (0)\ttotal: 3.06s\tremaining: 6.21s\n",
      "33:\tlearn: 291.6606632\ttest: 293.2855613\tbest: 3.5631289 (0)\ttotal: 3.13s\tremaining: 6.07s\n",
      "34:\tlearn: 291.2676325\ttest: 290.4952739\tbest: 3.5631289 (0)\ttotal: 3.19s\tremaining: 5.92s\n",
      "35:\tlearn: 307.2864067\ttest: 312.1060275\tbest: 3.5631289 (0)\ttotal: 3.25s\tremaining: 5.78s\n",
      "36:\tlearn: 334.0929178\ttest: 342.7727401\tbest: 3.5631289 (0)\ttotal: 3.32s\tremaining: 5.65s\n",
      "37:\tlearn: 357.7793957\ttest: 373.0382678\tbest: 3.5631289 (0)\ttotal: 3.38s\tremaining: 5.52s\n",
      "38:\tlearn: 440.5753522\ttest: 445.1462682\tbest: 3.5631289 (0)\ttotal: 3.46s\tremaining: 5.42s\n",
      "39:\tlearn: 290.3177811\ttest: 294.7238956\tbest: 3.5631289 (0)\ttotal: 3.54s\tremaining: 5.31s\n",
      "40:\tlearn: 268.5554440\ttest: 268.2655387\tbest: 3.5631289 (0)\ttotal: 3.62s\tremaining: 5.21s\n",
      "41:\tlearn: 229.1151547\ttest: 235.0999178\tbest: 3.5631289 (0)\ttotal: 3.69s\tremaining: 5.1s\n",
      "42:\tlearn: 241.0810211\ttest: 244.0283927\tbest: 3.5631289 (0)\ttotal: 3.74s\tremaining: 4.96s\n",
      "43:\tlearn: 247.4373705\ttest: 246.8100849\tbest: 3.5631289 (0)\ttotal: 3.8s\tremaining: 4.84s\n",
      "44:\tlearn: 262.6964452\ttest: 266.8807771\tbest: 3.5631289 (0)\ttotal: 3.87s\tremaining: 4.73s\n",
      "45:\tlearn: 233.9681425\ttest: 235.8015276\tbest: 3.5631289 (0)\ttotal: 3.93s\tremaining: 4.61s\n",
      "46:\tlearn: 297.7894104\ttest: 300.8519274\tbest: 3.5631289 (0)\ttotal: 4.01s\tremaining: 4.53s\n",
      "47:\tlearn: 236.9977759\ttest: 239.3923307\tbest: 3.5631289 (0)\ttotal: 4.05s\tremaining: 4.39s\n",
      "48:\tlearn: 226.4893884\ttest: 229.0121460\tbest: 3.5631289 (0)\ttotal: 4.1s\tremaining: 4.27s\n",
      "49:\tlearn: 251.1592734\ttest: 254.1589669\tbest: 3.5631289 (0)\ttotal: 4.15s\tremaining: 4.15s\n",
      "50:\tlearn: 268.4256645\ttest: 283.5957356\tbest: 3.5631289 (0)\ttotal: 4.19s\tremaining: 4.03s\n",
      "51:\tlearn: 223.0768279\ttest: 240.2066887\tbest: 3.5631289 (0)\ttotal: 4.25s\tremaining: 3.93s\n",
      "52:\tlearn: 213.2183488\ttest: 227.2039107\tbest: 3.5631289 (0)\ttotal: 4.31s\tremaining: 3.82s\n",
      "53:\tlearn: 259.7984831\ttest: 282.8344277\tbest: 3.5631289 (0)\ttotal: 4.34s\tremaining: 3.7s\n",
      "54:\tlearn: 227.8901147\ttest: 246.3495486\tbest: 3.5631289 (0)\ttotal: 4.4s\tremaining: 3.6s\n",
      "55:\tlearn: 226.0752605\ttest: 244.2682839\tbest: 3.5631289 (0)\ttotal: 4.47s\tremaining: 3.51s\n",
      "56:\tlearn: 232.6297146\ttest: 253.5869093\tbest: 3.5631289 (0)\ttotal: 4.55s\tremaining: 3.44s\n",
      "57:\tlearn: 253.5517990\ttest: 272.4680086\tbest: 3.5631289 (0)\ttotal: 4.62s\tremaining: 3.35s\n",
      "58:\tlearn: 279.8151139\ttest: 294.4311062\tbest: 3.5631289 (0)\ttotal: 4.67s\tremaining: 3.25s\n",
      "59:\tlearn: 300.5981933\ttest: 321.7179508\tbest: 3.5631289 (0)\ttotal: 4.73s\tremaining: 3.15s\n",
      "60:\tlearn: 243.3841292\ttest: 258.2224262\tbest: 3.5631289 (0)\ttotal: 4.8s\tremaining: 3.07s\n",
      "61:\tlearn: 192.8471677\ttest: 210.6999686\tbest: 3.5631289 (0)\ttotal: 4.86s\tremaining: 2.98s\n",
      "62:\tlearn: 182.9226078\ttest: 197.1381777\tbest: 3.5631289 (0)\ttotal: 4.93s\tremaining: 2.89s\n",
      "63:\tlearn: 172.9130142\ttest: 188.8426339\tbest: 3.5631289 (0)\ttotal: 5.02s\tremaining: 2.83s\n",
      "64:\tlearn: 178.2055613\ttest: 189.3743931\tbest: 3.5631289 (0)\ttotal: 5.16s\tremaining: 2.78s\n",
      "65:\tlearn: 174.5435932\ttest: 186.3882068\tbest: 3.5631289 (0)\ttotal: 5.23s\tremaining: 2.69s\n",
      "66:\tlearn: 158.3547503\ttest: 171.3211121\tbest: 3.5631289 (0)\ttotal: 5.31s\tremaining: 2.62s\n",
      "67:\tlearn: 178.0561397\ttest: 189.8446541\tbest: 3.5631289 (0)\ttotal: 5.37s\tremaining: 2.53s\n",
      "68:\tlearn: 158.9229211\ttest: 168.7251980\tbest: 3.5631289 (0)\ttotal: 5.43s\tremaining: 2.44s\n",
      "69:\tlearn: 149.2094818\ttest: 162.6274297\tbest: 3.5631289 (0)\ttotal: 5.51s\tremaining: 2.36s\n",
      "70:\tlearn: 142.5056983\ttest: 155.0186693\tbest: 3.5631289 (0)\ttotal: 5.59s\tremaining: 2.29s\n",
      "71:\tlearn: 139.9268163\ttest: 149.6133730\tbest: 3.5631289 (0)\ttotal: 5.66s\tremaining: 2.2s\n",
      "72:\tlearn: 133.7077660\ttest: 146.1260470\tbest: 3.5631289 (0)\ttotal: 5.75s\tremaining: 2.13s\n",
      "73:\tlearn: 137.0580416\ttest: 149.6854390\tbest: 3.5631289 (0)\ttotal: 5.83s\tremaining: 2.05s\n",
      "74:\tlearn: 188.4600832\ttest: 206.6207242\tbest: 3.5631289 (0)\ttotal: 5.89s\tremaining: 1.96s\n",
      "75:\tlearn: 166.3870476\ttest: 175.0919908\tbest: 3.5631289 (0)\ttotal: 5.95s\tremaining: 1.88s\n",
      "76:\tlearn: 173.4916195\ttest: 181.0077930\tbest: 3.5631289 (0)\ttotal: 6s\tremaining: 1.79s\n",
      "77:\tlearn: 158.7050968\ttest: 165.2299929\tbest: 3.5631289 (0)\ttotal: 6.06s\tremaining: 1.71s\n",
      "78:\tlearn: 156.7971007\ttest: 164.3772054\tbest: 3.5631289 (0)\ttotal: 6.17s\tremaining: 1.64s\n",
      "79:\tlearn: 154.4297553\ttest: 163.3629121\tbest: 3.5631289 (0)\ttotal: 6.23s\tremaining: 1.56s\n",
      "80:\tlearn: 152.8823496\ttest: 161.8564205\tbest: 3.5631289 (0)\ttotal: 6.27s\tremaining: 1.47s\n",
      "81:\tlearn: 151.6736559\ttest: 161.3990487\tbest: 3.5631289 (0)\ttotal: 6.31s\tremaining: 1.38s\n",
      "82:\tlearn: 156.5519300\ttest: 166.9808205\tbest: 3.5631289 (0)\ttotal: 6.34s\tremaining: 1.3s\n",
      "83:\tlearn: 133.9515983\ttest: 141.7210861\tbest: 3.5631289 (0)\ttotal: 6.38s\tremaining: 1.21s\n",
      "84:\tlearn: 126.1381384\ttest: 133.3909358\tbest: 3.5631289 (0)\ttotal: 6.42s\tremaining: 1.13s\n",
      "85:\tlearn: 133.6438951\ttest: 143.9543189\tbest: 3.5631289 (0)\ttotal: 6.47s\tremaining: 1.05s\n",
      "86:\tlearn: 121.4477349\ttest: 133.3681866\tbest: 3.5631289 (0)\ttotal: 6.51s\tremaining: 973ms\n",
      "87:\tlearn: 125.6113899\ttest: 138.7904036\tbest: 3.5631289 (0)\ttotal: 6.55s\tremaining: 893ms\n",
      "88:\tlearn: 115.5411080\ttest: 126.8788619\tbest: 3.5631289 (0)\ttotal: 6.6s\tremaining: 816ms\n",
      "89:\tlearn: 124.1940445\ttest: 136.2075325\tbest: 3.5631289 (0)\ttotal: 6.64s\tremaining: 738ms\n",
      "90:\tlearn: 112.5041461\ttest: 124.4144277\tbest: 3.5631289 (0)\ttotal: 6.7s\tremaining: 662ms\n",
      "91:\tlearn: 101.0435734\ttest: 111.4998730\tbest: 3.5631289 (0)\ttotal: 6.75s\tremaining: 587ms\n",
      "92:\tlearn: 98.9703271\ttest: 111.3426506\tbest: 3.5631289 (0)\ttotal: 6.79s\tremaining: 511ms\n",
      "93:\tlearn: 94.5166664\ttest: 105.3592509\tbest: 3.5631289 (0)\ttotal: 6.84s\tremaining: 437ms\n",
      "94:\tlearn: 96.9085051\ttest: 108.5672322\tbest: 3.5631289 (0)\ttotal: 6.88s\tremaining: 362ms\n"
     ]
    },
    {
     "name": "stdout",
     "output_type": "stream",
     "text": [
      "95:\tlearn: 96.1726365\ttest: 108.0454805\tbest: 3.5631289 (0)\ttotal: 6.93s\tremaining: 289ms\n",
      "96:\tlearn: 112.2820041\ttest: 117.0489946\tbest: 3.5631289 (0)\ttotal: 6.99s\tremaining: 216ms\n",
      "97:\tlearn: 107.2926487\ttest: 113.7720080\tbest: 3.5631289 (0)\ttotal: 7.04s\tremaining: 144ms\n",
      "98:\tlearn: 103.3114443\ttest: 112.2428184\tbest: 3.5631289 (0)\ttotal: 7.09s\tremaining: 71.7ms\n",
      "99:\tlearn: 112.4578528\ttest: 125.1580050\tbest: 3.5631289 (0)\ttotal: 7.18s\tremaining: 0us\n",
      "\n",
      "bestTest = 3.563128869\n",
      "bestIteration = 0\n",
      "\n",
      "Shrink model to first 1 iterations.\n"
     ]
    },
    {
     "data": {
      "text/plain": [
       "<catboost.core.CatBoostClassifier at 0x2371c349910>"
      ]
     },
     "execution_count": 20,
     "metadata": {},
     "output_type": "execute_result"
    }
   ],
   "source": [
    "from catboost import CatBoostClassifier\n",
    "model = CatBoostClassifier(iterations=100, verbose=True, learning_rate=5)\n",
    "model.fit(X_train, y_train, \n",
    "         eval_set=(X_test, y_test),\n",
    "         plot=True)"
   ]
  },
  {
   "cell_type": "code",
   "execution_count": 21,
   "id": "express-chuck",
   "metadata": {},
   "outputs": [
    {
     "data": {
      "text/plain": [
       "(35920, 6)"
      ]
     },
     "execution_count": 21,
     "metadata": {},
     "output_type": "execute_result"
    }
   ],
   "source": [
    "data.shape"
   ]
  },
  {
   "cell_type": "code",
   "execution_count": 22,
   "id": "correct-breakfast",
   "metadata": {},
   "outputs": [
    {
     "data": {
      "text/plain": [
       "0.4223273942093541"
      ]
     },
     "execution_count": 22,
     "metadata": {},
     "output_type": "execute_result"
    }
   ],
   "source": [
    "model.score(X_test, y_test)"
   ]
  },
  {
   "cell_type": "code",
   "execution_count": 23,
   "id": "round-heart",
   "metadata": {},
   "outputs": [],
   "source": [
    "from sklearn.ensemble import RandomForestClassifier"
   ]
  },
  {
   "cell_type": "code",
   "execution_count": 24,
   "id": "maritime-richardson",
   "metadata": {},
   "outputs": [
    {
     "data": {
      "text/plain": [
       "RandomForestClassifier()"
      ]
     },
     "execution_count": 24,
     "metadata": {},
     "output_type": "execute_result"
    }
   ],
   "source": [
    "model3 = RandomForestClassifier()\n",
    "model3.fit(X_train, y_train)"
   ]
  },
  {
   "cell_type": "code",
   "execution_count": 25,
   "id": "substantial-springer",
   "metadata": {},
   "outputs": [
    {
     "data": {
      "text/plain": [
       "0.9924832962138085"
      ]
     },
     "execution_count": 25,
     "metadata": {},
     "output_type": "execute_result"
    }
   ],
   "source": [
    "model3.score(X_test, y_test)"
   ]
  },
  {
   "cell_type": "code",
   "execution_count": 26,
   "id": "cardiac-software",
   "metadata": {},
   "outputs": [],
   "source": [
    "from sklearn.linear_model import LogisticRegression\n",
    "model4 = LogisticRegression()"
   ]
  },
  {
   "cell_type": "code",
   "execution_count": 27,
   "id": "tired-geometry",
   "metadata": {},
   "outputs": [
    {
     "name": "stderr",
     "output_type": "stream",
     "text": [
      "c:\\users\\qodirjon\\appdata\\local\\programs\\python\\python39\\lib\\site-packages\\sklearn\\linear_model\\_logistic.py:763: ConvergenceWarning: lbfgs failed to converge (status=1):\n",
      "STOP: TOTAL NO. of ITERATIONS REACHED LIMIT.\n",
      "\n",
      "Increase the number of iterations (max_iter) or scale the data as shown in:\n",
      "    https://scikit-learn.org/stable/modules/preprocessing.html\n",
      "Please also refer to the documentation for alternative solver options:\n",
      "    https://scikit-learn.org/stable/modules/linear_model.html#logistic-regression\n",
      "  n_iter_i = _check_optimize_result(\n"
     ]
    },
    {
     "data": {
      "text/plain": [
       "LogisticRegression()"
      ]
     },
     "execution_count": 27,
     "metadata": {},
     "output_type": "execute_result"
    }
   ],
   "source": [
    "model4.fit(X_train, y_train)"
   ]
  },
  {
   "cell_type": "code",
   "execution_count": 28,
   "id": "owned-thickness",
   "metadata": {},
   "outputs": [
    {
     "data": {
      "text/plain": [
       "0.2458240534521158"
      ]
     },
     "execution_count": 28,
     "metadata": {},
     "output_type": "execute_result"
    }
   ],
   "source": [
    "model4.score(X_test, y_test)"
   ]
  },
  {
   "cell_type": "code",
   "execution_count": 29,
   "id": "composite-politics",
   "metadata": {},
   "outputs": [],
   "source": [
    "from sklearn.tree import DecisionTreeClassifier\n",
    "model5 = DecisionTreeClassifier()"
   ]
  },
  {
   "cell_type": "code",
   "execution_count": 30,
   "id": "wooden-printer",
   "metadata": {},
   "outputs": [
    {
     "data": {
      "text/plain": [
       "DecisionTreeClassifier()"
      ]
     },
     "execution_count": 30,
     "metadata": {},
     "output_type": "execute_result"
    }
   ],
   "source": [
    "model5.fit(X_train, y_train)"
   ]
  },
  {
   "cell_type": "code",
   "execution_count": 31,
   "id": "heard-bumper",
   "metadata": {},
   "outputs": [
    {
     "data": {
      "text/plain": [
       "0.9969376391982183"
      ]
     },
     "execution_count": 31,
     "metadata": {},
     "output_type": "execute_result"
    }
   ],
   "source": [
    "model5.score(X_test, y_test)"
   ]
  },
  {
   "cell_type": "code",
   "execution_count": 32,
   "id": "oriental-branch",
   "metadata": {},
   "outputs": [
    {
     "data": {
      "text/plain": [
       "KNeighborsClassifier()"
      ]
     },
     "execution_count": 32,
     "metadata": {},
     "output_type": "execute_result"
    }
   ],
   "source": [
    "from sklearn.neighbors import KNeighborsClassifier\n",
    "model6 = KNeighborsClassifier()\n",
    "model6.fit(X_train, y_train)"
   ]
  },
  {
   "cell_type": "code",
   "execution_count": 33,
   "id": "controlled-aerospace",
   "metadata": {},
   "outputs": [
    {
     "data": {
      "text/plain": [
       "0.7764476614699332"
      ]
     },
     "execution_count": 33,
     "metadata": {},
     "output_type": "execute_result"
    }
   ],
   "source": [
    "model6.score(X_test,y_test)"
   ]
  },
  {
   "cell_type": "code",
   "execution_count": 34,
   "id": "unsigned-brooks",
   "metadata": {},
   "outputs": [],
   "source": [
    "from sklearn.neural_network import MLPClassifier\n",
    "model7 = MLPClassifier()"
   ]
  },
  {
   "cell_type": "code",
   "execution_count": 35,
   "id": "qualified-marking",
   "metadata": {},
   "outputs": [
    {
     "name": "stderr",
     "output_type": "stream",
     "text": [
      "c:\\users\\qodirjon\\appdata\\local\\programs\\python\\python39\\lib\\site-packages\\sklearn\\neural_network\\_multilayer_perceptron.py:614: ConvergenceWarning: Stochastic Optimizer: Maximum iterations (200) reached and the optimization hasn't converged yet.\n",
      "  warnings.warn(\n"
     ]
    },
    {
     "data": {
      "text/plain": [
       "MLPClassifier()"
      ]
     },
     "execution_count": 35,
     "metadata": {},
     "output_type": "execute_result"
    }
   ],
   "source": [
    "model7.fit(X_train,y_train)"
   ]
  },
  {
   "cell_type": "code",
   "execution_count": 36,
   "id": "joint-patent",
   "metadata": {},
   "outputs": [
    {
     "data": {
      "text/plain": [
       "0.44974944320712695"
      ]
     },
     "execution_count": 36,
     "metadata": {},
     "output_type": "execute_result"
    }
   ],
   "source": [
    "model7.score(X_test,y_test)"
   ]
  },
  {
   "cell_type": "code",
   "execution_count": 37,
   "id": "complete-remains",
   "metadata": {},
   "outputs": [
    {
     "ename": "NameError",
     "evalue": "name 'model2' is not defined",
     "output_type": "error",
     "traceback": [
      "\u001b[1;31m---------------------------------------------------------------------------\u001b[0m",
      "\u001b[1;31mNameError\u001b[0m                                 Traceback (most recent call last)",
      "\u001b[1;32m<ipython-input-37-bdbc6e3b57d9>\u001b[0m in \u001b[0;36m<module>\u001b[1;34m\u001b[0m\n\u001b[1;32m----> 1\u001b[1;33m \u001b[0mmodel2\u001b[0m\u001b[1;33m.\u001b[0m\u001b[0mpredict\u001b[0m\u001b[1;33m(\u001b[0m\u001b[0mX_test\u001b[0m\u001b[1;33m)\u001b[0m\u001b[1;33m\u001b[0m\u001b[1;33m\u001b[0m\u001b[0m\n\u001b[0m",
      "\u001b[1;31mNameError\u001b[0m: name 'model2' is not defined"
     ]
    }
   ],
   "source": [
    "model2.predict(X_test)"
   ]
  },
  {
   "cell_type": "code",
   "execution_count": 39,
   "id": "restricted-asbestos",
   "metadata": {},
   "outputs": [
    {
     "ename": "ValueError",
     "evalue": "X has 3 features, but DecisionTreeClassifier is expecting 5 features as input.",
     "output_type": "error",
     "traceback": [
      "\u001b[1;31m---------------------------------------------------------------------------\u001b[0m",
      "\u001b[1;31mValueError\u001b[0m                                Traceback (most recent call last)",
      "\u001b[1;32m<ipython-input-39-5fbb1b114a4c>\u001b[0m in \u001b[0;36m<module>\u001b[1;34m\u001b[0m\n\u001b[1;32m----> 1\u001b[1;33m \u001b[0mmodel3\u001b[0m\u001b[1;33m.\u001b[0m\u001b[0mpredict\u001b[0m\u001b[1;33m(\u001b[0m\u001b[1;33m[\u001b[0m\u001b[1;33m[\u001b[0m\u001b[1;36m70\u001b[0m\u001b[1;33m,\u001b[0m \u001b[1;36m20\u001b[0m\u001b[1;33m,\u001b[0m \u001b[1;36m185\u001b[0m\u001b[1;33m]\u001b[0m\u001b[1;33m]\u001b[0m\u001b[1;33m)\u001b[0m\u001b[1;33m\u001b[0m\u001b[1;33m\u001b[0m\u001b[0m\n\u001b[0m",
      "\u001b[1;32mc:\\users\\qodirjon\\appdata\\local\\programs\\python\\python39\\lib\\site-packages\\sklearn\\ensemble\\_forest.py\u001b[0m in \u001b[0;36mpredict\u001b[1;34m(self, X)\u001b[0m\n\u001b[0;32m    628\u001b[0m             \u001b[0mThe\u001b[0m \u001b[0mpredicted\u001b[0m \u001b[0mclasses\u001b[0m\u001b[1;33m.\u001b[0m\u001b[1;33m\u001b[0m\u001b[1;33m\u001b[0m\u001b[0m\n\u001b[0;32m    629\u001b[0m         \"\"\"\n\u001b[1;32m--> 630\u001b[1;33m         \u001b[0mproba\u001b[0m \u001b[1;33m=\u001b[0m \u001b[0mself\u001b[0m\u001b[1;33m.\u001b[0m\u001b[0mpredict_proba\u001b[0m\u001b[1;33m(\u001b[0m\u001b[0mX\u001b[0m\u001b[1;33m)\u001b[0m\u001b[1;33m\u001b[0m\u001b[1;33m\u001b[0m\u001b[0m\n\u001b[0m\u001b[0;32m    631\u001b[0m \u001b[1;33m\u001b[0m\u001b[0m\n\u001b[0;32m    632\u001b[0m         \u001b[1;32mif\u001b[0m \u001b[0mself\u001b[0m\u001b[1;33m.\u001b[0m\u001b[0mn_outputs_\u001b[0m \u001b[1;33m==\u001b[0m \u001b[1;36m1\u001b[0m\u001b[1;33m:\u001b[0m\u001b[1;33m\u001b[0m\u001b[1;33m\u001b[0m\u001b[0m\n",
      "\u001b[1;32mc:\\users\\qodirjon\\appdata\\local\\programs\\python\\python39\\lib\\site-packages\\sklearn\\ensemble\\_forest.py\u001b[0m in \u001b[0;36mpredict_proba\u001b[1;34m(self, X)\u001b[0m\n\u001b[0;32m    672\u001b[0m         \u001b[0mcheck_is_fitted\u001b[0m\u001b[1;33m(\u001b[0m\u001b[0mself\u001b[0m\u001b[1;33m)\u001b[0m\u001b[1;33m\u001b[0m\u001b[1;33m\u001b[0m\u001b[0m\n\u001b[0;32m    673\u001b[0m         \u001b[1;31m# Check data\u001b[0m\u001b[1;33m\u001b[0m\u001b[1;33m\u001b[0m\u001b[1;33m\u001b[0m\u001b[0m\n\u001b[1;32m--> 674\u001b[1;33m         \u001b[0mX\u001b[0m \u001b[1;33m=\u001b[0m \u001b[0mself\u001b[0m\u001b[1;33m.\u001b[0m\u001b[0m_validate_X_predict\u001b[0m\u001b[1;33m(\u001b[0m\u001b[0mX\u001b[0m\u001b[1;33m)\u001b[0m\u001b[1;33m\u001b[0m\u001b[1;33m\u001b[0m\u001b[0m\n\u001b[0m\u001b[0;32m    675\u001b[0m \u001b[1;33m\u001b[0m\u001b[0m\n\u001b[0;32m    676\u001b[0m         \u001b[1;31m# Assign chunk of trees to jobs\u001b[0m\u001b[1;33m\u001b[0m\u001b[1;33m\u001b[0m\u001b[1;33m\u001b[0m\u001b[0m\n",
      "\u001b[1;32mc:\\users\\qodirjon\\appdata\\local\\programs\\python\\python39\\lib\\site-packages\\sklearn\\ensemble\\_forest.py\u001b[0m in \u001b[0;36m_validate_X_predict\u001b[1;34m(self, X)\u001b[0m\n\u001b[0;32m    420\u001b[0m         \u001b[0mcheck_is_fitted\u001b[0m\u001b[1;33m(\u001b[0m\u001b[0mself\u001b[0m\u001b[1;33m)\u001b[0m\u001b[1;33m\u001b[0m\u001b[1;33m\u001b[0m\u001b[0m\n\u001b[0;32m    421\u001b[0m \u001b[1;33m\u001b[0m\u001b[0m\n\u001b[1;32m--> 422\u001b[1;33m         \u001b[1;32mreturn\u001b[0m \u001b[0mself\u001b[0m\u001b[1;33m.\u001b[0m\u001b[0mestimators_\u001b[0m\u001b[1;33m[\u001b[0m\u001b[1;36m0\u001b[0m\u001b[1;33m]\u001b[0m\u001b[1;33m.\u001b[0m\u001b[0m_validate_X_predict\u001b[0m\u001b[1;33m(\u001b[0m\u001b[0mX\u001b[0m\u001b[1;33m,\u001b[0m \u001b[0mcheck_input\u001b[0m\u001b[1;33m=\u001b[0m\u001b[1;32mTrue\u001b[0m\u001b[1;33m)\u001b[0m\u001b[1;33m\u001b[0m\u001b[1;33m\u001b[0m\u001b[0m\n\u001b[0m\u001b[0;32m    423\u001b[0m \u001b[1;33m\u001b[0m\u001b[0m\n\u001b[0;32m    424\u001b[0m     \u001b[1;33m@\u001b[0m\u001b[0mproperty\u001b[0m\u001b[1;33m\u001b[0m\u001b[1;33m\u001b[0m\u001b[0m\n",
      "\u001b[1;32mc:\\users\\qodirjon\\appdata\\local\\programs\\python\\python39\\lib\\site-packages\\sklearn\\tree\\_classes.py\u001b[0m in \u001b[0;36m_validate_X_predict\u001b[1;34m(self, X, check_input)\u001b[0m\n\u001b[0;32m    405\u001b[0m         \u001b[1;34m\"\"\"Validate the training data on predict (probabilities).\"\"\"\u001b[0m\u001b[1;33m\u001b[0m\u001b[1;33m\u001b[0m\u001b[0m\n\u001b[0;32m    406\u001b[0m         \u001b[1;32mif\u001b[0m \u001b[0mcheck_input\u001b[0m\u001b[1;33m:\u001b[0m\u001b[1;33m\u001b[0m\u001b[1;33m\u001b[0m\u001b[0m\n\u001b[1;32m--> 407\u001b[1;33m             X = self._validate_data(X, dtype=DTYPE, accept_sparse=\"csr\",\n\u001b[0m\u001b[0;32m    408\u001b[0m                                     reset=False)\n\u001b[0;32m    409\u001b[0m             if issparse(X) and (X.indices.dtype != np.intc or\n",
      "\u001b[1;32mc:\\users\\qodirjon\\appdata\\local\\programs\\python\\python39\\lib\\site-packages\\sklearn\\base.py\u001b[0m in \u001b[0;36m_validate_data\u001b[1;34m(self, X, y, reset, validate_separately, **check_params)\u001b[0m\n\u001b[0;32m    435\u001b[0m \u001b[1;33m\u001b[0m\u001b[0m\n\u001b[0;32m    436\u001b[0m         \u001b[1;32mif\u001b[0m \u001b[0mcheck_params\u001b[0m\u001b[1;33m.\u001b[0m\u001b[0mget\u001b[0m\u001b[1;33m(\u001b[0m\u001b[1;34m'ensure_2d'\u001b[0m\u001b[1;33m,\u001b[0m \u001b[1;32mTrue\u001b[0m\u001b[1;33m)\u001b[0m\u001b[1;33m:\u001b[0m\u001b[1;33m\u001b[0m\u001b[1;33m\u001b[0m\u001b[0m\n\u001b[1;32m--> 437\u001b[1;33m             \u001b[0mself\u001b[0m\u001b[1;33m.\u001b[0m\u001b[0m_check_n_features\u001b[0m\u001b[1;33m(\u001b[0m\u001b[0mX\u001b[0m\u001b[1;33m,\u001b[0m \u001b[0mreset\u001b[0m\u001b[1;33m=\u001b[0m\u001b[0mreset\u001b[0m\u001b[1;33m)\u001b[0m\u001b[1;33m\u001b[0m\u001b[1;33m\u001b[0m\u001b[0m\n\u001b[0m\u001b[0;32m    438\u001b[0m \u001b[1;33m\u001b[0m\u001b[0m\n\u001b[0;32m    439\u001b[0m         \u001b[1;32mreturn\u001b[0m \u001b[0mout\u001b[0m\u001b[1;33m\u001b[0m\u001b[1;33m\u001b[0m\u001b[0m\n",
      "\u001b[1;32mc:\\users\\qodirjon\\appdata\\local\\programs\\python\\python39\\lib\\site-packages\\sklearn\\base.py\u001b[0m in \u001b[0;36m_check_n_features\u001b[1;34m(self, X, reset)\u001b[0m\n\u001b[0;32m    363\u001b[0m \u001b[1;33m\u001b[0m\u001b[0m\n\u001b[0;32m    364\u001b[0m         \u001b[1;32mif\u001b[0m \u001b[0mn_features\u001b[0m \u001b[1;33m!=\u001b[0m \u001b[0mself\u001b[0m\u001b[1;33m.\u001b[0m\u001b[0mn_features_in_\u001b[0m\u001b[1;33m:\u001b[0m\u001b[1;33m\u001b[0m\u001b[1;33m\u001b[0m\u001b[0m\n\u001b[1;32m--> 365\u001b[1;33m             raise ValueError(\n\u001b[0m\u001b[0;32m    366\u001b[0m                 \u001b[1;34mf\"X has {n_features} features, but {self.__class__.__name__} \"\u001b[0m\u001b[1;33m\u001b[0m\u001b[1;33m\u001b[0m\u001b[0m\n\u001b[0;32m    367\u001b[0m                 f\"is expecting {self.n_features_in_} features as input.\")\n",
      "\u001b[1;31mValueError\u001b[0m: X has 3 features, but DecisionTreeClassifier is expecting 5 features as input."
     ]
    }
   ],
   "source": [
    "model3.predict([[70, 20, 185]])\n"
   ]
  },
  {
   "cell_type": "code",
   "execution_count": null,
   "id": "indie-avatar",
   "metadata": {},
   "outputs": [],
   "source": []
  },
  {
   "cell_type": "code",
   "execution_count": null,
   "id": "computational-boost",
   "metadata": {},
   "outputs": [],
   "source": []
  }
 ],
 "metadata": {
  "kernelspec": {
   "display_name": "Python 3",
   "language": "python",
   "name": "python3"
  },
  "language_info": {
   "codemirror_mode": {
    "name": "ipython",
    "version": 3
   },
   "file_extension": ".py",
   "mimetype": "text/x-python",
   "name": "python",
   "nbconvert_exporter": "python",
   "pygments_lexer": "ipython3",
   "version": "3.9.6"
  }
 },
 "nbformat": 4,
 "nbformat_minor": 5
}
